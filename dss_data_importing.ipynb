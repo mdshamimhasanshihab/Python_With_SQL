{
 "cells": [
  {
   "cell_type": "code",
   "execution_count": 1,
   "metadata": {},
   "outputs": [
    {
     "name": "stdout",
     "output_type": "stream",
     "text": [
      "<mysql.connector.connection_cext.CMySQLConnection object at 0x000001FA5D7A6400>\n",
      "CMySQLCursor: (Nothing executed yet)\n"
     ]
    }
   ],
   "source": [
    "import mysql.connector\n",
    "  \n",
    "dataBase = mysql.connector.connect(\n",
    "  host =\"durjoydss.com\",\n",
    "  user =\"durjoyds_datateam_users\",\n",
    "  passwd =\"gvFE2QM(c{@S\",\n",
    "  database = \"durjoyds_fmcgdb\"\n",
    ")\n",
    " \n",
    "print(dataBase)\n",
    "cursorObject = dataBase.cursor()\n",
    "print(cursorObject)"
   ]
  },
  {
   "cell_type": "code",
   "execution_count": 2,
   "metadata": {},
   "outputs": [
    {
     "name": "stdout",
     "output_type": "stream",
     "text": [
      "('ads',)\n",
      "('anonymous_stores',)\n",
      "('categories',)\n",
      "('companies',)\n",
      "('company_product',)\n",
      "('company_user',)\n",
      "('failed_jobs',)\n",
      "('jobs',)\n",
      "('media',)\n",
      "('migrations',)\n",
      "('model_has_permissions',)\n",
      "('model_has_roles',)\n",
      "('notifications',)\n",
      "('order_items',)\n",
      "('orders',)\n",
      "('password_resets',)\n",
      "('permissions',)\n",
      "('personal_access_tokens',)\n",
      "('product_cartons',)\n",
      "('product_tag',)\n",
      "('products',)\n",
      "('role_has_permissions',)\n",
      "('roles',)\n",
      "('sessions',)\n",
      "('tags',)\n",
      "('trade_offers',)\n",
      "('user_service_points',)\n",
      "('users',)\n",
      "('websockets_statistics_entries',)\n"
     ]
    }
   ],
   "source": [
    "cursorObject.execute(\"show tables\")\n",
    "for data in cursorObject:\n",
    "    print(data)"
   ]
  },
  {
   "cell_type": "code",
   "execution_count": 3,
   "metadata": {},
   "outputs": [],
   "source": [
    "import pandas as pd\n",
    "writer = pd.ExcelWriter('fmcgdb.xlsx')"
   ]
  },
  {
   "cell_type": "code",
   "execution_count": 4,
   "metadata": {},
   "outputs": [
    {
     "name": "stdout",
     "output_type": "stream",
     "text": [
      "('ads',)\n",
      "('anonymous_stores',)\n",
      "('categories',)\n",
      "('companies',)\n",
      "('company_product',)\n",
      "('company_user',)\n",
      "('failed_jobs',)\n",
      "('jobs',)\n",
      "('media',)\n",
      "('migrations',)\n",
      "('model_has_permissions',)\n",
      "('model_has_roles',)\n",
      "('notifications',)\n",
      "('order_items',)\n",
      "('orders',)\n",
      "('password_resets',)\n",
      "('permissions',)\n",
      "('personal_access_tokens',)\n",
      "('product_cartons',)\n",
      "('product_tag',)\n",
      "('products',)\n",
      "('role_has_permissions',)\n",
      "('roles',)\n",
      "('sessions',)\n",
      "('tags',)\n",
      "('trade_offers',)\n",
      "('user_service_points',)\n",
      "('users',)\n",
      "('websockets_statistics_entries',)\n"
     ]
    }
   ],
   "source": [
    "datas=[]\n",
    "cursorObject.execute(\"show tables\")\n",
    "for data in cursorObject:\n",
    "    datas.append(data)\n",
    "    print(data)"
   ]
  },
  {
   "cell_type": "code",
   "execution_count": 5,
   "metadata": {},
   "outputs": [],
   "source": [
    "# query=f\"select * from anonymous_stores;\"\n",
    "# cursorObject.execute(query)\n",
    "# print(cursorObject)\n",
    "# table_rows = cursorObject.fetchall()\n",
    "# df = pd.DataFrame(table_rows)\n",
    "# df.head"
   ]
  },
  {
   "cell_type": "code",
   "execution_count": 9,
   "metadata": {},
   "outputs": [
    {
     "name": "stdout",
     "output_type": "stream",
     "text": [
      "1\n",
      "2\n",
      "3\n",
      "4\n",
      "5\n",
      "6\n",
      "8\n",
      "9\n",
      "11\n",
      "12\n",
      "13\n",
      "14\n",
      "16\n",
      "17\n",
      "18\n",
      "19\n",
      "20\n",
      "21\n",
      "22\n",
      "23\n",
      "26\n",
      "27\n"
     ]
    }
   ],
   "source": [
    "for no in range(len(datas)):\n",
    "    if (no==0 or no==7 or no==10 or no==15 or no ==24 or no==25 or no==28):\n",
    "        continue\n",
    "    query=f\"select * from {datas[no][0]};\"\n",
    "    cursorObject.execute(query)\n",
    "    table_rows = cursorObject.fetchall()\n",
    "    df = pd.DataFrame(table_rows)\n",
    "    df.columns= (cursorObject.column_names)\n",
    "    print(no)\n",
    "    df.to_excel(f'{datas[no][0]}.xlsx')"
   ]
  },
  {
   "cell_type": "code",
   "execution_count": 10,
   "metadata": {},
   "outputs": [
    {
     "ename": "TypeError",
     "evalue": "'CMySQLConnection' object is not iterable",
     "output_type": "error",
     "traceback": [
      "\u001b[1;31m---------------------------------------------------------------------------\u001b[0m",
      "\u001b[1;31mTypeError\u001b[0m                                 Traceback (most recent call last)",
      "\u001b[1;32m<ipython-input-10-8ff5e5e42de7>\u001b[0m in \u001b[0;36m<module>\u001b[1;34m\u001b[0m\n\u001b[1;32m----> 1\u001b[1;33m \u001b[1;32mfor\u001b[0m \u001b[0mi\u001b[0m \u001b[1;32min\u001b[0m \u001b[0mdataBase\u001b[0m\u001b[1;33m:\u001b[0m\u001b[1;33m\u001b[0m\u001b[1;33m\u001b[0m\u001b[0m\n\u001b[0m\u001b[0;32m      2\u001b[0m     \u001b[0mprint\u001b[0m\u001b[1;33m(\u001b[0m\u001b[0mi\u001b[0m\u001b[1;33m)\u001b[0m\u001b[1;33m\u001b[0m\u001b[1;33m\u001b[0m\u001b[0m\n",
      "\u001b[1;31mTypeError\u001b[0m: 'CMySQLConnection' object is not iterable"
     ]
    }
   ],
   "source": [
    "for i in dataBase:\n",
    "    print(i)"
   ]
  },
  {
   "cell_type": "code",
   "execution_count": null,
   "metadata": {},
   "outputs": [],
   "source": []
  }
 ],
 "metadata": {
  "kernelspec": {
   "display_name": "Python 3",
   "language": "python",
   "name": "python3"
  },
  "language_info": {
   "codemirror_mode": {
    "name": "ipython",
    "version": 3
   },
   "file_extension": ".py",
   "mimetype": "text/x-python",
   "name": "python",
   "nbconvert_exporter": "python",
   "pygments_lexer": "ipython3",
   "version": "3.9.0"
  }
 },
 "nbformat": 4,
 "nbformat_minor": 4
}
