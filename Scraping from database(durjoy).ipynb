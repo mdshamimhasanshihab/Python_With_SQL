{
 "cells": [
  {
   "cell_type": "code",
   "execution_count": 1,
   "metadata": {},
   "outputs": [
    {
     "name": "stdout",
     "output_type": "stream",
     "text": [
      "<mysql.connector.connection_cext.CMySQLConnection object at 0x000001F1CBA6DE50>\n",
      "CMySQLCursor: (Nothing executed yet)\n"
     ]
    }
   ],
   "source": [
    "import mysql.connector\n",
    "  \n",
    "dataBase = mysql.connector.connect(\n",
    "  host =\"durjoydss.com\",\n",
    "  user =\"durjoyds_datateam_users\",\n",
    "  passwd =\"gvFE2QM(c{@S\",\n",
    "  database = \"durjoyds_consumerdb\"\n",
    ")\n",
    " \n",
    "print(dataBase)\n",
    "cursorObject = dataBase.cursor()\n",
    "print(cursorObject)"
   ]
  },
  {
   "cell_type": "code",
   "execution_count": 9,
   "metadata": {},
   "outputs": [
    {
     "name": "stdout",
     "output_type": "stream",
     "text": [
      "('banners',)\n",
      "('cart_items',)\n",
      "('carts',)\n",
      "('categories',)\n",
      "('configurations',)\n",
      "('coupon_user',)\n",
      "('coupons',)\n",
      "('deliverer_service_points',)\n",
      "('failed_jobs',)\n",
      "('jobs',)\n",
      "('media',)\n",
      "('migrations',)\n",
      "('model_has_permissions',)\n",
      "('model_has_roles',)\n",
      "('notifications',)\n",
      "('order_items',)\n",
      "('orders',)\n",
      "('password_resets',)\n",
      "('permissions',)\n",
      "('personal_access_tokens',)\n",
      "('product_store',)\n",
      "('product_tag',)\n",
      "('products',)\n",
      "('role_has_permissions',)\n",
      "('roles',)\n",
      "('service_addresses',)\n",
      "('sessions',)\n",
      "('store_service_points',)\n",
      "('stores',)\n",
      "('tags',)\n",
      "('user_favorites',)\n",
      "('users',)\n"
     ]
    }
   ],
   "source": [
    "cursorObject.execute(\"show tables\")\n",
    "for data in cursorObject:\n",
    "    print(data)\n"
   ]
  },
  {
   "cell_type": "code",
   "execution_count": 2,
   "metadata": {},
   "outputs": [],
   "source": [
    "import pandas as pd\n"
   ]
  },
  {
   "cell_type": "code",
   "execution_count": 3,
   "metadata": {},
   "outputs": [],
   "source": [
    "# query=\"select * from categories;\"\n",
    "# cursorObject.execute(query)\n",
    "# table_rows = cursorObject.fetchall()\n",
    "# df = pd.DataFrame(table_rows)\n",
    "# df.to_csv('categories.csv')"
   ]
  },
  {
   "cell_type": "code",
   "execution_count": 12,
   "metadata": {},
   "outputs": [
    {
     "name": "stdout",
     "output_type": "stream",
     "text": [
      "('banners',)\n",
      "('cart_items',)\n",
      "('carts',)\n",
      "('categories',)\n",
      "('configurations',)\n",
      "('coupon_user',)\n",
      "('coupons',)\n",
      "('deliverer_service_points',)\n",
      "('failed_jobs',)\n",
      "('jobs',)\n",
      "('media',)\n",
      "('migrations',)\n",
      "('model_has_permissions',)\n",
      "('model_has_roles',)\n",
      "('notifications',)\n",
      "('order_items',)\n",
      "('orders',)\n",
      "('password_resets',)\n",
      "('permissions',)\n",
      "('personal_access_tokens',)\n",
      "('product_store',)\n",
      "('product_tag',)\n",
      "('products',)\n",
      "('role_has_permissions',)\n",
      "('roles',)\n",
      "('service_addresses',)\n",
      "('sessions',)\n",
      "('store_service_points',)\n",
      "('stores',)\n",
      "('tags',)\n",
      "('user_favorites',)\n",
      "('users',)\n"
     ]
    }
   ],
   "source": [
    "datas=[]\n",
    "cursorObject.execute(\"show tables\")\n",
    "for data in cursorObject:\n",
    "    datas.append(data)\n",
    "    print(data)"
   ]
  },
  {
   "cell_type": "code",
   "execution_count": 14,
   "metadata": {},
   "outputs": [
    {
     "name": "stdout",
     "output_type": "stream",
     "text": [
      "0\n",
      "2\n",
      "3\n",
      "4\n",
      "7\n",
      "8\n",
      "10\n",
      "11\n",
      "13\n",
      "14\n",
      "15\n",
      "16\n",
      "18\n",
      "19\n",
      "21\n",
      "22\n",
      "24\n",
      "25\n",
      "26\n",
      "27\n",
      "28\n",
      "29\n",
      "31\n"
     ]
    }
   ],
   "source": [
    "for no in range(len(datas)):\n",
    "    if (no==1 or no==5 or no==6 or no==9 or no==12 or no==17 or no==20 or no==23 or no ==30):\n",
    "        continue\n",
    "    query=f\"select * from {datas[no][0]};\"\n",
    "    cursorObject.execute(query)\n",
    "    table_rows = cursorObject.fetchall()\n",
    "    df = pd.DataFrame(table_rows)\n",
    "    df.columns= (cursorObject.column_names)\n",
    "    print(no)\n",
    "    df.to_excel(f'{datas[no][0]}.xlsx')"
   ]
  },
  {
   "cell_type": "code",
   "execution_count": null,
   "metadata": {},
   "outputs": [],
   "source": [
    "# query=f\"select * from charts};\"\n",
    "# cursorObject.execute(query)\n",
    "# table_rows = cursorObject.fetchall()\n",
    "# df = pd.DataFrame(table_rows)\n",
    "# df.columns= (cursorObject.column_names)\n",
    "# print(df.columns)\n",
    "# df.to_excel(f'{datas[no][0]}.xlsx')"
   ]
  },
  {
   "cell_type": "code",
   "execution_count": null,
   "metadata": {},
   "outputs": [],
   "source": [
    "query=f\"select * from banners;\"\n",
    "print(cursorObject.column_names)\n"
   ]
  },
  {
   "cell_type": "code",
   "execution_count": null,
   "metadata": {},
   "outputs": [],
   "source": [
    "query=f\"select * from store_service_points;\"\n",
    "# print(cursorObject.column_names)\n",
    "cursorObject.execute(query)\n",
    "table_rows = cursorObject.fetchall()\n",
    "df = pd.DataFrame(table_rows)\n",
    "df.columns= (cursorObject.column_names)\n",
    "print(df)"
   ]
  },
  {
   "cell_type": "code",
   "execution_count": null,
   "metadata": {},
   "outputs": [],
   "source": [
    "# query=f\"select * from banners;\"\n",
    "# cursorObject.execute(query)\n",
    "# table_rows = cursorObject.fetchall()\n",
    "# df = pd.DataFrame(table_rows)\n",
    "# df.columns =['Name', 'Code', 'Age', 'Weight']"
   ]
  },
  {
   "cell_type": "code",
   "execution_count": null,
   "metadata": {},
   "outputs": [],
   "source": []
  },
  {
   "cell_type": "code",
   "execution_count": null,
   "metadata": {},
   "outputs": [],
   "source": [
    "team.columns =['Name', 'Code', 'Age', 'Weight']"
   ]
  }
 ],
 "metadata": {
  "kernelspec": {
   "display_name": "Python 3",
   "language": "python",
   "name": "python3"
  },
  "language_info": {
   "codemirror_mode": {
    "name": "ipython",
    "version": 3
   },
   "file_extension": ".py",
   "mimetype": "text/x-python",
   "name": "python",
   "nbconvert_exporter": "python",
   "pygments_lexer": "ipython3",
   "version": "3.9.0"
  }
 },
 "nbformat": 4,
 "nbformat_minor": 4
}
